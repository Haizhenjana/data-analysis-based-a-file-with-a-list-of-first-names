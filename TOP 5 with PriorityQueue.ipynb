{
 "cells": [
  {
   "cell_type": "code",
   "execution_count": 26,
   "metadata": {},
   "outputs": [
    {
     "name": "stdout",
     "output_type": "stream",
     "text": [
      "Die Top 5 Vornamen sind:\n",
      "Michael: 538059\n",
      "Christopher: 451282\n",
      "Jennifer: 389908\n",
      "Jessica: 371094\n",
      "Matthew: 369321\n"
     ]
    },
    {
     "data": {
      "image/png": "[encoded data removed]",
      "text/plain": [
       "<Figure size 432x288 with 1 Axes>"
      ]
     },
     "metadata": {
      "needs_background": "light"
     },
     "output_type": "display_data"
    }
   ],
   "source": [
    "import csv\n",
    "import queue\n",
    "%matplotlib inline\n",
    "import matplotlib.pyplot as plt\n",
    "\n",
    "#alle Vornamen und ihre Anzahl(wie häufig wird sie vergegeben) in einer Dictionary speichern\n",
    "d = {}\n",
    "with open(\"names80until87.csv\",newline='') as file:\n",
    "    csv_file=csv.reader(file,delimiter=\",\")\n",
    "    for line in csv_file:\n",
    "        if line[1] == \"Name\":\n",
    "            continue\n",
    "        name,count = line[1],int(line[5])\n",
    "        if name in d:\n",
    "            d[name] = d[name] + count\n",
    "        else:\n",
    "            d[name] = count\n",
    "            \n",
    "#mit PriorityQueue die 5 beliebtesten Vornamen entnehmen            \n",
    "pq = queue.PriorityQueue()\n",
    "xs = []\n",
    "ys = []\n",
    "\n",
    "for key,value in d.items():\n",
    "    pq.put((-value,key))\n",
    "print(\"Die Top 5 Vornamen sind:\")\n",
    "for i in range(0,5):\n",
    "    t = pq.get()\n",
    "    print(t[1] + \": \" + str(-t[0]))\n",
    "    xs.append(t[1])\n",
    "    ys.append(-t[0])\n",
    "\n",
    "#die TOP 5 Vornamen visualisieren\n",
    "plt.bar(xs,ys,color=\"#00a2ff\")\n",
    "plt.show()\n",
    "    "
   ]
  },
  {
   "cell_type": "code",
   "execution_count": null,
   "metadata": {},
   "outputs": [],
   "source": []
  },
  {
   "cell_type": "code",
   "execution_count": null,
   "metadata": {},
   "outputs": [],
   "source": []
  }
 ],
 "metadata": {
  "kernelspec": {
   "display_name": "Python 3",
   "language": "python",
   "name": "python3"
  },
  "language_info": {
   "codemirror_mode": {
    "name": "ipython",
    "version": 3
   },
   "file_extension": ".py",
   "mimetype": "text/x-python",
   "name": "python",
   "nbconvert_exporter": "python",
   "pygments_lexer": "ipython3",
   "version": "3.7.3"
  }
 },
 "nbformat": 4,
 "nbformat_minor": 2
}
